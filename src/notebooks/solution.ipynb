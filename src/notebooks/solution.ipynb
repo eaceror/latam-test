{
 "cells": [
  {
   "cell_type": "markdown",
   "metadata": {},
   "source": [
    "# Latam Challenge"
   ]
  },
  {
   "cell_type": "markdown",
   "metadata": {},
   "source": [
    "## Problema\n",
    "El problema consiste en predecir la probabilidad de atraso de los vuelos que aterrizan o despegan del aeropuerto de Santiago de Chile (SCL). Para eso les entregamos un dataset usando datos públicos y reales donde cada fila corresponde a un vuelo que aterrizó o despegó de SCL. Para cada vuelo se cuenta con la siguiente información:\n",
    "- Fecha-I : Fecha y hora programada del vuelo.\n",
    "- Vlo-I : Número de vuelo programado.\n",
    "- Ori-I : Código de ciudad de origen programado.\n",
    "- Des-I : Código de ciudad de destino programado.\n",
    "- Emp-I : Código aerolínea de vuelo programado.\n",
    "- Fecha-O : Fecha y hora de operación del vuelo.\n",
    "- Vlo-O : Número de vuelo de operación del vuelo.\n",
    "- Ori-O : Código de ciudad de origen de operación\n",
    "- Des-O : Código de ciudad de destino de operación.\n",
    "- Emp-O : Código aerolínea de vuelo operado.\n",
    "- DIA : Día del mes de operación del vuelo.\n",
    "- MES : Número de mes de operación del vuelo.\n",
    "- AÑO : Año de operación del vuelo.\n",
    "- DIANOM : Día de la semana de operación del vuelo.\n",
    "- TIPOVUELO : Tipo de vuelo, I =Internacional, N =Nacional.\n",
    "- OPERA : Nombre de aerolínea que opera.\n",
    "- SIGLAORI : Nombre ciudad origen.\n",
    "- SIGLADES : Nombre ciudad destino"
   ]
  },
  {
   "cell_type": "markdown",
   "metadata": {},
   "source": [
    "## Desafío\n",
    "1. ¿Cómo se distribuyen los datos? ¿Qué te llama la atención o cuál es tu conclusión sobre esto?\n",
    "2. Genera las columnas adicionales y luego expórtelas en un archivo synthetic_features.csv :\n",
    "    - temporada_alta : 1 si Fecha-I está entre 15-Dic y 3-Mar, o 15-Jul y 31-Jul, o 11-Sep y 30-Sep, 0 si no.\n",
    "    - dif_min : diferencia en minutos entre Fecha-O y Fecha-I .\n",
    "    - atraso_15 : 1 si dif_min > 15, 0 si no.\n",
    "    - periodo_dia : mañana (entre 5:00 y 11:59), tarde (entre 12:00 y 18:59) y noche (entre 19:00 y 4:59), en base a Fecha-I .\n",
    "3. ¿Cómo se compone la tasa de atraso por destino, aerolínea, mes del año, día de la semana, temporada, tipo de vuelo?\n",
    "¿Qué variables esperarías que más influyeran en predecir atrasos?\n",
    "4. Entrena uno o varios modelos (usando el/los algoritmo(s) que prefieras) para estimar la probabilidad de atraso de un vuelo.\n",
    "Siéntete libre de generar variables adicionales y/o complementar con variables externas.\n",
    "5. Evalúa tu modelo. ¿Qué performance tiene? ¿Qué métricas usaste para evaluar esa performance y por qué? ¿Por qué\n",
    "elegiste ese algoritmo en particular? ¿Qué variables son las que más influyen en la predicción? ¿Cómo podrías mejorar la\n",
    "performance?"
   ]
  },
  {
   "cell_type": "code",
   "execution_count": null,
   "metadata": {},
   "outputs": [],
   "source": []
  }
 ],
 "metadata": {
  "kernelspec": {
   "display_name": "Python 3.9.12 64-bit",
   "language": "python",
   "name": "python3"
  },
  "language_info": {
   "name": "python",
   "version": "3.9.12"
  },
  "orig_nbformat": 4,
  "vscode": {
   "interpreter": {
    "hash": "2c88e005617ecf3134a70e06dc37a38930ad24933ce48d11325521b6998e5d22"
   }
  }
 },
 "nbformat": 4,
 "nbformat_minor": 2
}
